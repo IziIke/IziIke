{
  "nbformat": 4,
  "nbformat_minor": 0,
  "metadata": {
    "colab": {
      "name": "Cópia de Cópia de Estudo_Inicial.ipynb",
      "provenance": [],
      "collapsed_sections": [],
      "include_colab_link": true
    },
    "kernelspec": {
      "name": "python3",
      "display_name": "Python 3"
    }
  },
  "cells": [
    {
      "cell_type": "markdown",
      "metadata": {
        "id": "view-in-github",
        "colab_type": "text"
      },
      "source": [
        "<a href=\"https://colab.research.google.com/github/IziIke/IziIke/blob/main/C%C3%B3pia_de_C%C3%B3pia_de_Estudo_Inicial.ipynb\" target=\"_parent\"><img src=\"https://colab.research.google.com/assets/colab-badge.svg\" alt=\"Open In Colab\"/></a>"
      ]
    },
    {
      "cell_type": "markdown",
      "source": [
        "#PRIMEIROS CÓDIGOS EM PHYTON\n",
        "\":)"
      ],
      "metadata": {
        "id": "oAwAnHmV6whX"
      }
    },
    {
      "cell_type": "code",
      "metadata": {
        "id": "9JlTyvxp6K8k"
      },
      "source": [
        "\n",
        "Numero = 20\n",
        "nome = \"Luis\"\n",
        "numero = 10\n",
        "meu_numero = 6"
      ],
      "execution_count": 1,
      "outputs": []
    },
    {
      "cell_type": "markdown",
      "metadata": {
        "id": "wO4dz-rDkGyb"
      },
      "source": [
        "# Apenas documentação"
      ]
    },
    {
      "cell_type": "code",
      "metadata": {
        "id": "tz8UMR-16MUo",
        "colab": {
          "base_uri": "https://localhost:8080/"
        },
        "outputId": "7c7f97be-2637-4999-817c-1f61968b8e01"
      },
      "source": [
        "print(Numero)\n",
        "print(nome)\n",
        "print(numero)\n",
        "print(meu_numero)"
      ],
      "execution_count": 2,
      "outputs": [
        {
          "output_type": "stream",
          "name": "stdout",
          "text": [
            "20\n",
            "Luis\n",
            "10\n",
            "6\n"
          ]
        }
      ]
    },
    {
      "cell_type": "markdown",
      "source": [
        ""
      ],
      "metadata": {
        "id": "Qq9UobH26ruB"
      }
    },
    {
      "cell_type": "code",
      "metadata": {
        "id": "sfovsJrk6MW9",
        "colab": {
          "base_uri": "https://localhost:8080/"
        },
        "outputId": "c386f1e5-d1af-470d-adee-edd3cb162741"
      },
      "source": [
        "\n",
        "if numero <= 5:\n",
        "   print(numero)\n",
        "   print(nome)\n",
        "else:\n",
        "   print('Não é menor')\n",
        "\n",
        "   if meu_numero < 5:\n",
        "      print(\"linha extra!\")\n",
        "      print(\"segundo if\")\n",
        "   else:\n",
        "      print(\"maior ou igual a 10\")\n",
        "      print(\"mais uma linha\")  \n",
        "\n",
        "print(\"Sempre mostra: passei por aqui \" + str(meu_numero))\n",
        "print(\"Sempre mostra: passei por aqui\", meu_numero)\n"
      ],
      "execution_count": 4,
      "outputs": [
        {
          "output_type": "stream",
          "name": "stdout",
          "text": [
            "Não é menor\n",
            "maior ou igual a 10\n",
            "mais uma linha\n",
            "Sempre mostra: passei por aqui 6\n",
            "Sempre mostra: passei por aqui 6\n"
          ]
        }
      ]
    },
    {
      "cell_type": "code",
      "metadata": {
        "id": "4kgQwDZp6MZZ",
        "colab": {
          "base_uri": "https://localhost:8080/"
        },
        "outputId": "058e9608-66be-4872-de73-882bbb71c62d"
      },
      "source": [
        "\n",
        "for pos in range(15, 0, -1): \n",
        "  print(pos)\n"
      ],
      "execution_count": 5,
      "outputs": [
        {
          "output_type": "stream",
          "name": "stdout",
          "text": [
            "15\n",
            "14\n",
            "13\n",
            "12\n",
            "11\n",
            "10\n",
            "9\n",
            "8\n",
            "7\n",
            "6\n",
            "5\n",
            "4\n",
            "3\n",
            "2\n",
            "1\n"
          ]
        }
      ]
    },
    {
      "cell_type": "code",
      "metadata": {
        "id": "LSG4Re4-BN-2",
        "colab": {
          "base_uri": "https://localhost:8080/"
        },
        "outputId": "44917d54-b077-483f-8c8d-80cb292edfff"
      },
      "source": [
        "\n",
        "for pos in range(5, 0, -1):\n",
        "  print(pos)\n",
        "\n",
        "print(\"Acabou!\")"
      ],
      "execution_count": 6,
      "outputs": [
        {
          "output_type": "stream",
          "name": "stdout",
          "text": [
            "5\n",
            "4\n",
            "3\n",
            "2\n",
            "1\n",
            "Acabou!\n"
          ]
        }
      ]
    },
    {
      "cell_type": "code",
      "metadata": {
        "id": "TgLaxrx-6Mff",
        "colab": {
          "base_uri": "https://localhost:8080/"
        },
        "outputId": "202b1c2e-1c5b-4478-8a4e-88963ffe2e43"
      },
      "source": [
        "\n",
        "pos = 5\n",
        "while pos < 10:\n",
        "  print(pos)\n",
        "  pos = pos + 1\n",
        "\n",
        "print(\"Acabou!\")"
      ],
      "execution_count": 7,
      "outputs": [
        {
          "output_type": "stream",
          "name": "stdout",
          "text": [
            "5\n",
            "6\n",
            "7\n",
            "8\n",
            "9\n",
            "Acabou!\n"
          ]
        }
      ]
    },
    {
      "cell_type": "code",
      "metadata": {
        "id": "3IzZpCjuCzYO",
        "colab": {
          "base_uri": "https://localhost:8080/"
        },
        "outputId": "fc738843-5f3e-4870-fff2-0ed4c50dffc8"
      },
      "source": [
        "probs = [1/5] * 5\n",
        "print(probs)\n",
        "print( sum(probs) )\n"
      ],
      "execution_count": null,
      "outputs": [
        {
          "output_type": "stream",
          "text": [
            "[0.2, 0.2, 0.2, 0.2, 0.2]\n",
            "1.0\n",
            "0.2\n"
          ],
          "name": "stdout"
        }
      ]
    },
    {
      "cell_type": "code",
      "metadata": {
        "colab": {
          "base_uri": "https://localhost:8080/"
        },
        "id": "us3QvVhMmYtS",
        "outputId": "37ae6e23-507d-42b8-b3c7-ce5e6436f3c9"
      },
      "source": [
        "vet = [1, 2, 3 ]\n",
        "print(vet)\n",
        "print(sum(vet))"
      ],
      "execution_count": null,
      "outputs": [
        {
          "output_type": "stream",
          "text": [
            "[1, 2, 3]\n",
            "6\n"
          ],
          "name": "stdout"
        }
      ]
    },
    {
      "cell_type": "code",
      "metadata": {
        "id": "8_wxenyPCzhl",
        "colab": {
          "base_uri": "https://localhost:8080/"
        },
        "outputId": "87c15846-1cf0-4499-af91-81a934d146cd"
      },
      "source": [
        "probs = [-1] * 4\n",
        "print(probs)"
      ],
      "execution_count": null,
      "outputs": [
        {
          "output_type": "stream",
          "text": [
            "[-1, -1, -1, -1]\n"
          ],
          "name": "stdout"
        }
      ]
    },
    {
      "cell_type": "code",
      "metadata": {
        "id": "-aNGH0Cy-BEt",
        "colab": {
          "base_uri": "https://localhost:8080/"
        },
        "outputId": "6867c5eb-f7d0-4404-93a5-b6b398108649"
      },
      "source": [
        "valor = input(\"Digite um texto: \")\n",
        "print(valor)"
      ],
      "execution_count": null,
      "outputs": [
        {
          "output_type": "stream",
          "text": [
            "Digite um texto: 10.55\n",
            "10.55\n"
          ],
          "name": "stdout"
        }
      ]
    },
    {
      "cell_type": "code",
      "metadata": {
        "id": "ZXRS3IJVBhkj",
        "colab": {
          "base_uri": "https://localhost:8080/"
        },
        "outputId": "0872e7de-1a7d-4b25-bf44-43aeb9c031c8"
      },
      "source": [
        "try:\n",
        "  valor = int(input(\"Digite um número\"))\n",
        "  print(valor)\n",
        "except ValueError:\n",
        "  print('Presta atenção!!!')\n"
      ],
      "execution_count": null,
      "outputs": [
        {
          "output_type": "stream",
          "text": [
            "Digite um número5555\n",
            "5555\n"
          ],
          "name": "stdout"
        }
      ]
    },
    {
      "cell_type": "code",
      "metadata": {
        "id": "w1ca5BZ--PKk",
        "colab": {
          "base_uri": "https://localhost:8080/"
        },
        "outputId": "02626610-4ad2-42ff-c997-6b5c561d821e"
      },
      "source": [
        "opc = 0\n",
        "while opc <= 10:\n",
        "  try:\n",
        "    opc = int(input(\"Digite um número inteiro: \"))\n",
        "  except ValueError:\n",
        "    print(\"Digite apenas números\")\n",
        "\n",
        "print('Fim')"
      ],
      "execution_count": null,
      "outputs": [
        {
          "output_type": "stream",
          "text": [
            "Digite um número inteiro: 2\n",
            "Digite um número inteiro: 3\n",
            "Digite um número inteiro: 4\n",
            "Digite um número inteiro: 555\n",
            "Fim\n"
          ],
          "name": "stdout"
        }
      ]
    },
    {
      "cell_type": "code",
      "metadata": {
        "id": "DzhItc9btCxi",
        "outputId": "553f8d69-0a59-4d78-b4b5-84dec805dd31",
        "colab": {
          "base_uri": "https://localhost:8080/"
        }
      },
      "source": [
        "opc = 0\n",
        "while opc < 11:\n",
        "  try:\n",
        "    opc = int(input(\"Digite um número inteiro: \"))\n",
        "    if opc == 10:\n",
        "        print(\"Número {} corresponde ao requisitado!!\".format(opc))\n",
        "        break\n",
        "    else:\n",
        "        print(\"Tente novamente!!\")\n",
        "  except ValueError:\n",
        "    print(\"Digite apenas números\")\n",
        "\n",
        "print('Fim11')"
      ],
      "execution_count": null,
      "outputs": [
        {
          "output_type": "stream",
          "text": [
            "Digite um número inteiro: 3\n",
            "Tente novamente!!\n",
            "Digite um número inteiro: 4\n",
            "Tente novamente!!\n",
            "Digite um número inteiro: 10\n",
            "Número 10 corresponde ao requisitado!!\n",
            "Fim11\n"
          ],
          "name": "stdout"
        }
      ]
    },
    {
      "cell_type": "code",
      "metadata": {
        "id": "OKcF-LWjzx4a",
        "colab": {
          "base_uri": "https://localhost:8080/"
        },
        "outputId": "961cc206-f6a6-4bf0-ba6e-0748a6b3c6b8"
      },
      "source": [
        "\n",
        "first_value = input(\"Primeiro número:  \")\n",
        "second_value = input(\"Segundo número:  \")\n",
        "\n",
        "print(max(first_value, second_value))"
      ],
      "execution_count": null,
      "outputs": [
        {
          "output_type": "stream",
          "text": [
            "Primeiro número:  5\n",
            "Segundo número:  6\n",
            "6\n"
          ],
          "name": "stdout"
        }
      ]
    },
    {
      "cell_type": "code",
      "metadata": {
        "colab": {
          "base_uri": "https://localhost:8080/"
        },
        "id": "t-3aTPMxq8Ec",
        "outputId": "5b47e9ad-64f1-4d7d-f61c-a3d6ec73c9b7"
      },
      "source": [
        "first_value = int(input(\"Primeiro número:  \"))\n",
        "second_value = int(input(\"Segundo número:  \"))\n",
        "\n",
        "if first_value > second_value:\n",
        "  print(first_value)\n",
        "else:\n",
        "  print(second_value)  "
      ],
      "execution_count": null,
      "outputs": [
        {
          "output_type": "stream",
          "text": [
            "Primeiro número:  5\n",
            "Segundo número:  6\n",
            "6\n"
          ],
          "name": "stdout"
        }
      ]
    },
    {
      "cell_type": "code",
      "metadata": {
        "id": "m7kctLQX23b-",
        "colab": {
          "base_uri": "https://localhost:8080/"
        },
        "outputId": "1721836e-f012-429e-9a8e-fd390c8e9c27"
      },
      "source": [
        "\n",
        "qtd_linhas = int(input(\"Digite a quantidade de linhas: \"))\n",
        "for coluna in range(0, qtd_linhas):\n",
        "  for asterisco in range(0, coluna+1):\n",
        "    print(\"* \", end=\"\")\n",
        "  print(\"\\r\")              "
      ],
      "execution_count": null,
      "outputs": [
        {
          "output_type": "stream",
          "text": [
            "Digite a quantidade de linhas: 5\n",
            "* \n",
            "* * \n",
            "* * * \n",
            "* * * * \n",
            "* * * * * \n"
          ],
          "name": "stdout"
        }
      ]
    },
    {
      "cell_type": "code",
      "metadata": {
        "id": "34GY3VOKUGxN"
      },
      "source": [
        "\n",
        "def soma_quadrados(a, b = 4):\n",
        "  return a**2 + b**2"
      ],
      "execution_count": 8,
      "outputs": []
    },
    {
      "cell_type": "code",
      "metadata": {
        "id": "KXGMTzBHUHXM"
      },
      "source": [
        "print( soma_quadrados(2, 3))\n",
        "print( soma_quadrados(2))"
      ],
      "execution_count": null,
      "outputs": []
    }
  ]
}